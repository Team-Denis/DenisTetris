{
 "cells": [
  {
   "cell_type": "markdown",
   "metadata": {},
   "source": [
    "# NEAT Training\n",
    "***\n",
    "The following notebook is used to train the NEAT evolutionary algorithm for Tetris.\n",
    "A game instance is imported and used as a genome for training the model."
   ]
  },
  {
   "cell_type": "markdown",
   "metadata": {},
   "source": [
    "### Imports\n",
    "***\n",
    "All the necessary imports to train the model"
   ]
  },
  {
   "cell_type": "code",
   "execution_count": 35,
   "metadata": {},
   "outputs": [],
   "source": [
    "import os\n",
    "import numpy as np\n",
    "import neat\n",
    "import pickle # Used to save the model\n",
    "import multiprocessing\n",
    "import tetris\n",
    "import graphics"
   ]
  },
  {
   "cell_type": "markdown",
   "metadata": {},
   "source": [
    "### Config File\n",
    "***\n",
    "This cell modify the config txt file according to the parameter of the NEAT algorithm"
   ]
  },
  {
   "cell_type": "code",
   "execution_count": 36,
   "metadata": {},
   "outputs": [],
   "source": [
    "### NEAT CONFIGURATION ###\n",
    "pop_size = 10\n",
    "fitness_threshold = 1000\n",
    "num_inputs = 2 + 22*12\n",
    "num_outputs = 2 # 2 possible actions : number of rotate and index of columns to place the piece\n",
    "\n",
    "with open(\"config.txt\", \"r\") as f:\n",
    "    pop_index, threshold_index, inputs_index, outputs_index = 0, 0, 0, 0\n",
    "    lines = f.readlines()\n",
    "    for i in range(len(lines)):\n",
    "        if lines[i].startswith(\"pop_size\"):\n",
    "            pop_index = i\n",
    "        elif lines[i].startswith(\"fitness_threshold\"):\n",
    "            threshold_index = i\n",
    "        elif lines[i].startswith(\"num_inputs\"):\n",
    "            inputs_index = i\n",
    "        elif lines[i].startswith(\"num_outputs\"):\n",
    "            outputs_index = i\n",
    "\n",
    "with open(\"config.txt\", \"w\") as f:\n",
    "    lines[pop_index] = f\"pop_size              = {pop_size}\\n\"\n",
    "    lines[threshold_index] = f\"fitness_threshold     = {fitness_threshold}\\n\"\n",
    "    lines[inputs_index] = f\"num_inputs              = {num_inputs}\\n\"\n",
    "    lines[outputs_index] = f\"num_outputs             = {num_outputs}\\n\"\n",
    "    f.writelines(lines)\n",
    "\n",
    "    "
   ]
  },
  {
   "cell_type": "markdown",
   "metadata": {},
   "source": [
    "### Evaluation function\n",
    "***\n",
    "Evaluation function that will be used in the thread pool"
   ]
  },
  {
   "cell_type": "code",
   "execution_count": 37,
   "metadata": {},
   "outputs": [],
   "source": [
    "def convert_command(commands, num_columns):\n",
    "    command_1, command_2 = commands\n",
    "\n",
    "    # Converts to number of rotations\n",
    "    if command_1 <= -0.5:\n",
    "        command_1 = 0\n",
    "    elif -0.5 < command_1 <= 0:\n",
    "        command_1 = 1\n",
    "    elif 0 < command_1 <= 0.5:\n",
    "        command_1 = 2\n",
    "    else:\n",
    "        command_1 = 3\n",
    "\n",
    "    # Converts to index of column\n",
    "    command_2 += 1\n",
    "    command_2 *= num_columns // 2 - 1\n",
    "    command_2 = int(command_2)\n",
    "\n",
    "    return [command_1, command_2]\n",
    "\n",
    "def flatten_matrix(matrix):\n",
    "    \"\"\"Flattens a matrix into a list\n",
    "\n",
    "    Args:\n",
    "        matrix (list): matrix to flatten\n",
    "\n",
    "    Returns:\n",
    "        list: flattened matrix\n",
    "    \"\"\"\n",
    "    return [item for sublist in matrix for item in sublist]\n",
    "\n",
    "def eval_genomes(genomes, config):\n",
    "    \"\"\"Creates the eval function that will be used in a thread pool for each genome\n",
    "\n",
    "    Args:\n",
    "        genomes (genome): genome object\n",
    "        config (config): config object\n",
    "        \n",
    "        returns : fitness of the genome\n",
    "    \"\"\"\n",
    "    tet = []\n",
    "    ge = []\n",
    "    nets = []\n",
    "\n",
    "    for _id, genome in genomes:\n",
    "        tet.append(tetris.Tetris())\n",
    "        ge.append(genome)\n",
    "        net = neat.nn.FeedForwardNetwork.create(genome, config)\n",
    "        nets.append(net)\n",
    "        genome.fitness = 0\n",
    "\n",
    "    # Runs the game until it ends\n",
    "    while True:\n",
    "        # game_state = t.board  # Gets the current state of the game\n",
    "        # current_block = t.current_piece\n",
    "        # next_block = t.next_piece\n",
    "        # commands = net.activate(current_block, next_block, *flatten_matrix(game_state)) # Calculates the output of the network according to the current state\n",
    "        # commands = convert_command(commands, 12) # Gives the number of rotations and the index of the column to place the piece\n",
    "        # t.play(*commands)\n",
    "        # t.next_pos()    # Updates the game state according to the output of the network\n",
    "\n",
    "        for i in range(len(tet)):\n",
    "            \n",
    "            if tet[i].game_over:\n",
    "                tet.pop(i)\n",
    "                ge.pop(i)\n",
    "                nets.pop(i)\n",
    "\n",
    "            if len(tet) == 0:\n",
    "                return\n",
    "                \n",
    "            game_state = tet[i].board  # Gets the current state of the game\n",
    "            current_block = tet[i].current_piece\n",
    "            next_block = tet[i].next_piece\n",
    "            commands = nets[i].activate((current_block, next_block, *flatten_matrix(game_state)))\n",
    "            commands = convert_command(commands, 12)\n",
    "            tet[i].next_pos()\n",
    "            tet[i].play(*commands)\n",
    "            ge[i].fitness = tet[i].score\n",
    "            \n",
    "\n"
   ]
  },
  {
   "cell_type": "markdown",
   "metadata": {},
   "source": [
    "### Run function\n",
    "***\n",
    "Runs the evaluation function for each genome that are each placed in a different thread pool"
   ]
  },
  {
   "cell_type": "code",
   "execution_count": 38,
   "metadata": {},
   "outputs": [
    {
     "ename": "IndexError",
     "evalue": "index 22 is out of bounds for axis 0 with size 22",
     "output_type": "error",
     "traceback": [
      "\u001b[1;31m---------------------------------------------------------------------------\u001b[0m",
      "\u001b[1;31mIndexError\u001b[0m                                Traceback (most recent call last)",
      "\u001b[1;32mc:\\Users\\ahoul\\OneDrive - UCL\\BAC 2\\Hackathon\\hackathon-novembre-2023\\neat.ipynb Cell 9\u001b[0m line \u001b[0;36m1\n\u001b[0;32m     <a href='vscode-notebook-cell:/c%3A/Users/ahoul/OneDrive%20-%20UCL/BAC%202/Hackathon/hackathon-novembre-2023/neat.ipynb#X11sZmlsZQ%3D%3D?line=9'>10</a>\u001b[0m         pickle\u001b[39m.\u001b[39mdump(winner, f)\n\u001b[0;32m     <a href='vscode-notebook-cell:/c%3A/Users/ahoul/OneDrive%20-%20UCL/BAC%202/Hackathon/hackathon-novembre-2023/neat.ipynb#X11sZmlsZQ%3D%3D?line=10'>11</a>\u001b[0m         f\u001b[39m.\u001b[39mclose()\n\u001b[1;32m---> <a href='vscode-notebook-cell:/c%3A/Users/ahoul/OneDrive%20-%20UCL/BAC%202/Hackathon/hackathon-novembre-2023/neat.ipynb#X11sZmlsZQ%3D%3D?line=12'>13</a>\u001b[0m run(\u001b[39m\"\u001b[39;49m\u001b[39mconfig.txt\u001b[39;49m\u001b[39m\"\u001b[39;49m)\n",
      "\u001b[1;32mc:\\Users\\ahoul\\OneDrive - UCL\\BAC 2\\Hackathon\\hackathon-novembre-2023\\neat.ipynb Cell 9\u001b[0m line \u001b[0;36m8\n\u001b[0;32m      <a href='vscode-notebook-cell:/c%3A/Users/ahoul/OneDrive%20-%20UCL/BAC%202/Hackathon/hackathon-novembre-2023/neat.ipynb#X11sZmlsZQ%3D%3D?line=2'>3</a>\u001b[0m config \u001b[39m=\u001b[39m neat\u001b[39m.\u001b[39mConfig(neat\u001b[39m.\u001b[39mDefaultGenome, neat\u001b[39m.\u001b[39mDefaultReproduction,\n\u001b[0;32m      <a href='vscode-notebook-cell:/c%3A/Users/ahoul/OneDrive%20-%20UCL/BAC%202/Hackathon/hackathon-novembre-2023/neat.ipynb#X11sZmlsZQ%3D%3D?line=3'>4</a>\u001b[0m                      neat\u001b[39m.\u001b[39mDefaultSpeciesSet, neat\u001b[39m.\u001b[39mDefaultStagnation,\n\u001b[0;32m      <a href='vscode-notebook-cell:/c%3A/Users/ahoul/OneDrive%20-%20UCL/BAC%202/Hackathon/hackathon-novembre-2023/neat.ipynb#X11sZmlsZQ%3D%3D?line=4'>5</a>\u001b[0m                      config_file)\n\u001b[0;32m      <a href='vscode-notebook-cell:/c%3A/Users/ahoul/OneDrive%20-%20UCL/BAC%202/Hackathon/hackathon-novembre-2023/neat.ipynb#X11sZmlsZQ%3D%3D?line=6'>7</a>\u001b[0m p \u001b[39m=\u001b[39m neat\u001b[39m.\u001b[39mPopulation(config) \u001b[39m# Creates the population\u001b[39;00m\n\u001b[1;32m----> <a href='vscode-notebook-cell:/c%3A/Users/ahoul/OneDrive%20-%20UCL/BAC%202/Hackathon/hackathon-novembre-2023/neat.ipynb#X11sZmlsZQ%3D%3D?line=7'>8</a>\u001b[0m winner \u001b[39m=\u001b[39m p\u001b[39m.\u001b[39;49mrun(eval_genomes, pop_size) \u001b[39m# Runs the population until the fitness threshold is reached\u001b[39;00m\n\u001b[0;32m      <a href='vscode-notebook-cell:/c%3A/Users/ahoul/OneDrive%20-%20UCL/BAC%202/Hackathon/hackathon-novembre-2023/neat.ipynb#X11sZmlsZQ%3D%3D?line=8'>9</a>\u001b[0m \u001b[39mwith\u001b[39;00m \u001b[39mopen\u001b[39m(\u001b[39m\"\u001b[39m\u001b[39mwinner.pkl\u001b[39m\u001b[39m\"\u001b[39m, \u001b[39m\"\u001b[39m\u001b[39mwb\u001b[39m\u001b[39m\"\u001b[39m) \u001b[39mas\u001b[39;00m f:\n\u001b[0;32m     <a href='vscode-notebook-cell:/c%3A/Users/ahoul/OneDrive%20-%20UCL/BAC%202/Hackathon/hackathon-novembre-2023/neat.ipynb#X11sZmlsZQ%3D%3D?line=9'>10</a>\u001b[0m     pickle\u001b[39m.\u001b[39mdump(winner, f)\n",
      "File \u001b[1;32mc:\\Users\\ahoul\\anaconda3\\envs\\keras-env\\lib\\site-packages\\neat\\population.py:89\u001b[0m, in \u001b[0;36mPopulation.run\u001b[1;34m(self, fitness_function, n)\u001b[0m\n\u001b[0;32m     86\u001b[0m \u001b[39mself\u001b[39m\u001b[39m.\u001b[39mreporters\u001b[39m.\u001b[39mstart_generation(\u001b[39mself\u001b[39m\u001b[39m.\u001b[39mgeneration)\n\u001b[0;32m     88\u001b[0m \u001b[39m# Evaluate all genomes using the user-provided function.\u001b[39;00m\n\u001b[1;32m---> 89\u001b[0m fitness_function(\u001b[39mlist\u001b[39;49m(iteritems(\u001b[39mself\u001b[39;49m\u001b[39m.\u001b[39;49mpopulation)), \u001b[39mself\u001b[39;49m\u001b[39m.\u001b[39;49mconfig)\n\u001b[0;32m     91\u001b[0m \u001b[39m# Gather and report statistics.\u001b[39;00m\n\u001b[0;32m     92\u001b[0m best \u001b[39m=\u001b[39m \u001b[39mNone\u001b[39;00m\n",
      "\u001b[1;32mc:\\Users\\ahoul\\OneDrive - UCL\\BAC 2\\Hackathon\\hackathon-novembre-2023\\neat.ipynb Cell 9\u001b[0m line \u001b[0;36m7\n\u001b[0;32m     <a href='vscode-notebook-cell:/c%3A/Users/ahoul/OneDrive%20-%20UCL/BAC%202/Hackathon/hackathon-novembre-2023/neat.ipynb#X11sZmlsZQ%3D%3D?line=75'>76</a>\u001b[0m commands \u001b[39m=\u001b[39m convert_command(commands, \u001b[39m12\u001b[39m)\n\u001b[0;32m     <a href='vscode-notebook-cell:/c%3A/Users/ahoul/OneDrive%20-%20UCL/BAC%202/Hackathon/hackathon-novembre-2023/neat.ipynb#X11sZmlsZQ%3D%3D?line=76'>77</a>\u001b[0m tet[i]\u001b[39m.\u001b[39mnext_pos()\n\u001b[1;32m---> <a href='vscode-notebook-cell:/c%3A/Users/ahoul/OneDrive%20-%20UCL/BAC%202/Hackathon/hackathon-novembre-2023/neat.ipynb#X11sZmlsZQ%3D%3D?line=77'>78</a>\u001b[0m tet[i]\u001b[39m.\u001b[39;49mplay(\u001b[39m*\u001b[39;49mcommands)\n\u001b[0;32m     <a href='vscode-notebook-cell:/c%3A/Users/ahoul/OneDrive%20-%20UCL/BAC%202/Hackathon/hackathon-novembre-2023/neat.ipynb#X11sZmlsZQ%3D%3D?line=78'>79</a>\u001b[0m ge[i]\u001b[39m.\u001b[39mfitness \u001b[39m=\u001b[39m tet[i]\u001b[39m.\u001b[39mscore\n",
      "File \u001b[1;32mc:\\Users\\ahoul\\OneDrive - UCL\\BAC 2\\Hackathon\\hackathon-novembre-2023\\tetris.py:94\u001b[0m, in \u001b[0;36mplay\u001b[1;34m(self, rot, col)\u001b[0m\n\u001b[0;32m     91\u001b[0m     self.game_over = True\n\u001b[0;32m     92\u001b[0m     return\n\u001b[1;32m---> 94\u001b[0m # Place the piece\n\u001b[0;32m     95\u001b[0m for y in range(0, 23 - size):\n\u001b[0;32m     96\u001b[0m     if y == 22 - size:\n",
      "\u001b[1;31mIndexError\u001b[0m: index 22 is out of bounds for axis 0 with size 22"
     ]
    }
   ],
   "source": [
    "def run(config_file):\n",
    "    # Load configuration.\n",
    "    config = neat.Config(neat.DefaultGenome, neat.DefaultReproduction,\n",
    "                         neat.DefaultSpeciesSet, neat.DefaultStagnation,\n",
    "                         config_file)\n",
    "    \n",
    "    p = neat.Population(config) # Creates the population\n",
    "    winner = p.run(eval_genomes, pop_size) # Runs the population until the fitness threshold is reached\n",
    "    with open(\"winner.pkl\", \"wb\") as f:\n",
    "        pickle.dump(winner, f)\n",
    "        f.close()\n",
    "\n",
    "run(\"config.txt\")"
   ]
  },
  {
   "cell_type": "markdown",
   "metadata": {},
   "source": [
    "### Loads and tests\n",
    "***\n",
    "Loads the best genome stored in the .pkl file and tests it on a test game"
   ]
  },
  {
   "cell_type": "code",
   "execution_count": null,
   "metadata": {},
   "outputs": [],
   "source": [
    "config = neat.Config(neat.DefaultGenome, neat.DefaultReproduction,\n",
    "                         neat.DefaultSpeciesSet, neat.DefaultStagnation,\n",
    "                         \"config.txt\")\n",
    "genome = pickle.load(open('winner.pkl', 'rb'))\n",
    "net = neat.nn.FeedForwardNetworks.create(genome, config)\n",
    "# Tests the best genome on a test game\n",
    "t = tetris.Tetris()\n",
    "graphic = graphics.Graphic(300, (64, 201, 255), (232, 28, 255), (255, 255, 255), t.board)\n",
    "while not t.game_over:\n",
    "    state = t.board\n",
    "    current_block = t.current_piece\n",
    "    next_block = t.next_piece\n",
    "    commands = net.activate((current_block, next_block, *flatten_matrix(state)))\n",
    "    commands = convert_command(commands, 12)\n",
    "    t.play(*commands)\n",
    "    t.next_pos()\n",
    "    graphic.draw(t.board)\n",
    "    \n"
   ]
  }
 ],
 "metadata": {
  "kernelspec": {
   "display_name": "keras-env",
   "language": "python",
   "name": "python3"
  },
  "language_info": {
   "codemirror_mode": {
    "name": "ipython",
    "version": 3
   },
   "file_extension": ".py",
   "mimetype": "text/x-python",
   "name": "python",
   "nbconvert_exporter": "python",
   "pygments_lexer": "ipython3",
   "version": "3.10.0"
  }
 },
 "nbformat": 4,
 "nbformat_minor": 2
}
